{
 "cells": [
  {
   "cell_type": "code",
   "execution_count": 1,
   "metadata": {},
   "outputs": [],
   "source": [
    "import os\n",
    "import cv2 \n",
    "import numpy as np\n",
    "import tensorflow as tf\n",
    "from PIL import Image\n",
    "from matplotlib import pyplot as plt\n",
    "from matplotlib import cm\n",
    "from src.Image_processing_functions import load, resize, random_crop, normalize, random_jitter,create_draw_edge_mask\n",
    "from src.Image_processing_functions import load_image_train, load_image_test, get_concat_h, rename_photo_in_folder\n",
    "from src.Image_processing_functions import BUFFER_SIZE, BATCH_SIZE, IMG_WIDTH, IMG_HEIGHT"
   ]
  },
  {
   "cell_type": "markdown",
   "metadata": {},
   "source": [
    "# Create mask example"
   ]
  },
  {
   "cell_type": "code",
   "execution_count": null,
   "metadata": {},
   "outputs": [],
   "source": [
    "# open image example\n",
    "img = cv2.imread('images/de_convertir/FaSyn/FaSyn13/images/1.jpg')[:,:,::-1]\n",
    "plt.figure()\n",
    "plt.imshow(img)"
   ]
  },
  {
   "cell_type": "markdown",
   "metadata": {},
   "source": [
    "### 1 - edge Mask"
   ]
  },
  {
   "cell_type": "code",
   "execution_count": null,
   "metadata": {},
   "outputs": [],
   "source": [
    "img = cv2.imread('images/de_convertir/FaSyn/FaSyn13/images/1.jpg',0)\n",
    "edges = cv2.Canny(img,100,200)\n",
    "\n",
    "plt.subplot(121),plt.imshow(img,cmap = 'gray')\n",
    "plt.title('Original Image'), plt.xticks([]), plt.yticks([])\n",
    "plt.subplot(122),plt.imshow(edges,cmap = 'gray')\n",
    "plt.title('Edge Image'), plt.xticks([]), plt.yticks([])\n",
    "\n",
    "plt.show()"
   ]
  },
  {
   "cell_type": "markdown",
   "metadata": {},
   "source": [
    "### 2 - deep Mask"
   ]
  },
  {
   "cell_type": "code",
   "execution_count": null,
   "metadata": {},
   "outputs": [],
   "source": [
    "img = cv2.imread('images/de_convertir/FaSyn/FaSyn13/images/1.jpg')\n",
    "\n",
    "kernely = np.array([[1,1,1],[0,0,0],[-1,-1,-1]])\n",
    "kernelx = np.array([[1,0,-1],[1,0,-1],[1,0,-1]])\n",
    "edges = cv2.filter2D(img,cv2.CV_8U,kernelx)\n",
    "edges_y = cv2.filter2D(img,cv2.CV_8U,kernely)\n",
    "plt.imshow(edges,cmap = 'gray')\n",
    "#cv2.imshow('Gradients_X',edges)\n",
    "#cv2.imshow('Gradients_Y',edges_y)\n",
    "#cv2.waitKey(0)"
   ]
  },
  {
   "cell_type": "markdown",
   "metadata": {},
   "source": [
    "### 3 - Concatenate original photo to mask"
   ]
  },
  {
   "cell_type": "code",
   "execution_count": null,
   "metadata": {},
   "outputs": [],
   "source": [
    "PIL_image = Image.fromarray(np.uint8(img)).convert('RGB')\n",
    "PIL_image2 = Image.fromarray(np.uint8(edges)).convert('RGB')\n",
    "img_concat = get_concat_h(PIL_image, PIL_image2)\n",
    "plt.imshow(img_concat)"
   ]
  },
  {
   "cell_type": "code",
   "execution_count": null,
   "metadata": {},
   "outputs": [],
   "source": [
    "#https://machinelearningmastery.com/how-to-develop-a-pix2pix-gan-for-image-to-image-translation/\n",
    "# https://github.com/junyanz/pytorch-CycleGAN-and-pix2pix -> other method to merge photo and mask"
   ]
  },
  {
   "cell_type": "markdown",
   "metadata": {},
   "source": [
    "# Create Mask, Concatenate and prepare train/test data. pipeline code"
   ]
  },
  {
   "cell_type": "code",
   "execution_count": 7,
   "metadata": {},
   "outputs": [
    {
     "name": "stdout",
     "output_type": "stream",
     "text": [
      "4561\n"
     ]
    }
   ],
   "source": [
    "# to find how many files there are in the folder \n",
    "lista = os.listdir('images/all_photo/without_mask') # dir is your directory path\n",
    "number_files = len(lista)\n",
    "print(number_files)"
   ]
  },
  {
   "cell_type": "code",
   "execution_count": 8,
   "metadata": {},
   "outputs": [],
   "source": [
    "path = 'images/all_photo/without_mask'\n",
    "destination = 'images/all_photo/with_mask'"
   ]
  },
  {
   "cell_type": "code",
   "execution_count": 9,
   "metadata": {},
   "outputs": [],
   "source": [
    "# call the function to rename all photo in a specific folder\n",
    "rename_photo_in_folder(path)\n",
    "# create the mask, concatenate and save files in a new folder\n",
    "create_draw_edge_mask(path, destination, number_files)"
   ]
  },
  {
   "cell_type": "code",
   "execution_count": null,
   "metadata": {},
   "outputs": [],
   "source": [
    "# Call the load_image_train function that automate the whole process of loading test images.\n",
    "# Input images 512 pixel 256*2\n",
    "# Separate real image from input image\n",
    "# Resize las dos imagenes con el metodo de los NEAREST_NEIGHBOR\n",
    "# Appy a random_jitter\n",
    "# Finally normalizing the images to [-1, 1]\n",
    "train_dataset = tf.data.Dataset.list_files('images/all_photo/with_mask/*.png')\n",
    "train_dataset = train_dataset.map(load_image_train,\n",
    "                                  num_parallel_calls=tf.data.experimental.AUTOTUNE)\n",
    "train_dataset = train_dataset.shuffle(BUFFER_SIZE)\n",
    "train_dataset = train_dataset.batch(BATCH_SIZE)"
   ]
  },
  {
   "cell_type": "code",
   "execution_count": null,
   "metadata": {},
   "outputs": [],
   "source": [
    "test_dataset = tf.data.Dataset.list_files('images/Gothic/with_mask/*.png')\n",
    "test_dataset = test_dataset.map(load_image_test)\n",
    "test_dataset = test_dataset.batch(BATCH_SIZE)"
   ]
  }
 ],
 "metadata": {
  "kernelspec": {
   "display_name": "Python 3",
   "language": "python",
   "name": "python3"
  },
  "language_info": {
   "codemirror_mode": {
    "name": "ipython",
    "version": 3
   },
   "file_extension": ".py",
   "mimetype": "text/x-python",
   "name": "python",
   "nbconvert_exporter": "python",
   "pygments_lexer": "ipython3",
   "version": "3.7.6"
  }
 },
 "nbformat": 4,
 "nbformat_minor": 4
}
