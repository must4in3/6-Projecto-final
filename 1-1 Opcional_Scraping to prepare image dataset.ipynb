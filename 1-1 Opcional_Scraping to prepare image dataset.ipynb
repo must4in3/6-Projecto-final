{
 "cells": [
  {
   "cell_type": "code",
   "execution_count": 1,
   "metadata": {},
   "outputs": [],
   "source": [
    "import tensorflow as tf\n",
    "import pandas as pd\n",
    "import requests\n",
    "import re\n",
    "from src.image_scraping import getPage, get_image"
   ]
  },
  {
   "cell_type": "code",
   "execution_count": 2,
   "metadata": {},
   "outputs": [
    {
     "data": {
      "text/plain": [
       "'2.2.0'"
      ]
     },
     "execution_count": 2,
     "metadata": {},
     "output_type": "execute_result"
    }
   ],
   "source": [
    "tf.__version__"
   ]
  },
  {
   "cell_type": "code",
   "execution_count": 3,
   "metadata": {},
   "outputs": [
    {
     "name": "stderr",
     "output_type": "stream",
     "text": [
      "[WDM] - Current google-chrome version is 84.0.4147\n",
      "[WDM] - Get LATEST driver version for 84.0.4147\n",
      "[WDM] - Driver [/home/must4in3/.wdm/drivers/chromedriver/linux64/84.0.4147.30/chromedriver] found in cache\n"
     ]
    },
    {
     "name": "stdout",
     "output_type": "stream",
     "text": [
      " \n"
     ]
    },
    {
     "name": "stderr",
     "output_type": "stream",
     "text": [
      "[WDM] - Current google-chrome version is 84.0.4147\n",
      "[WDM] - Get LATEST driver version for 84.0.4147\n"
     ]
    },
    {
     "name": "stdout",
     "output_type": "stream",
     "text": [
      " \n"
     ]
    },
    {
     "name": "stderr",
     "output_type": "stream",
     "text": [
      "[WDM] - Driver [/home/must4in3/.wdm/drivers/chromedriver/linux64/84.0.4147.30/chromedriver] found in cache\n"
     ]
    }
   ],
   "source": [
    "url=[]\n",
    "for i in range(2,4):\n",
    "    soup = getPage(f\"https://pixabay.com/it/images/search/architettura/?pagi={i}\")\n",
    "    url.append([x['content'] for x in soup.select(\"div div meta\")])"
   ]
  },
  {
   "cell_type": "code",
   "execution_count": 4,
   "metadata": {},
   "outputs": [
    {
     "data": {
      "text/html": [
       "<div>\n",
       "<style scoped>\n",
       "    .dataframe tbody tr th:only-of-type {\n",
       "        vertical-align: middle;\n",
       "    }\n",
       "\n",
       "    .dataframe tbody tr th {\n",
       "        vertical-align: top;\n",
       "    }\n",
       "\n",
       "    .dataframe thead th {\n",
       "        text-align: right;\n",
       "    }\n",
       "</style>\n",
       "<table border=\"1\" class=\"dataframe\">\n",
       "  <thead>\n",
       "    <tr style=\"text-align: right;\">\n",
       "      <th></th>\n",
       "      <th>0</th>\n",
       "      <th>1</th>\n",
       "      <th>2</th>\n",
       "      <th>3</th>\n",
       "      <th>4</th>\n",
       "      <th>5</th>\n",
       "      <th>6</th>\n",
       "      <th>7</th>\n",
       "      <th>8</th>\n",
       "      <th>9</th>\n",
       "      <th>...</th>\n",
       "      <th>190</th>\n",
       "      <th>191</th>\n",
       "      <th>192</th>\n",
       "      <th>193</th>\n",
       "      <th>194</th>\n",
       "      <th>195</th>\n",
       "      <th>196</th>\n",
       "      <th>197</th>\n",
       "      <th>198</th>\n",
       "      <th>199</th>\n",
       "    </tr>\n",
       "  </thead>\n",
       "  <tbody>\n",
       "    <tr>\n",
       "      <th>0</th>\n",
       "      <td>https://cdn.pixabay.com/photo/2016/11/08/05/18...</td>\n",
       "      <td>https://creativecommons.org/licenses/publicdom...</td>\n",
       "      <td>https://cdn.pixabay.com/photo/2014/09/17/21/43...</td>\n",
       "      <td>https://creativecommons.org/licenses/publicdom...</td>\n",
       "      <td>https://cdn.pixabay.com/photo/2016/10/30/20/08...</td>\n",
       "      <td>https://creativecommons.org/licenses/publicdom...</td>\n",
       "      <td>https://cdn.pixabay.com/photo/2017/04/10/08/08...</td>\n",
       "      <td>https://creativecommons.org/licenses/publicdom...</td>\n",
       "      <td>https://cdn.pixabay.com/photo/2013/04/16/14/22...</td>\n",
       "      <td>https://creativecommons.org/licenses/publicdom...</td>\n",
       "      <td>...</td>\n",
       "      <td>https://cdn.pixabay.com/photo/2017/08/07/10/22...</td>\n",
       "      <td>https://creativecommons.org/licenses/publicdom...</td>\n",
       "      <td>https://cdn.pixabay.com/photo/2016/06/06/23/49...</td>\n",
       "      <td>https://creativecommons.org/licenses/publicdom...</td>\n",
       "      <td>https://cdn.pixabay.com/photo/2017/04/11/03/33...</td>\n",
       "      <td>https://creativecommons.org/licenses/publicdom...</td>\n",
       "      <td>https://cdn.pixabay.com/photo/2017/02/17/15/02...</td>\n",
       "      <td>https://creativecommons.org/licenses/publicdom...</td>\n",
       "      <td>https://cdn.pixabay.com/photo/2016/03/09/09/59...</td>\n",
       "      <td>https://creativecommons.org/licenses/publicdom...</td>\n",
       "    </tr>\n",
       "    <tr>\n",
       "      <th>1</th>\n",
       "      <td>https://cdn.pixabay.com/photo/2012/03/02/00/36...</td>\n",
       "      <td>https://creativecommons.org/licenses/publicdom...</td>\n",
       "      <td>https://cdn.pixabay.com/photo/2016/11/08/05/01...</td>\n",
       "      <td>https://creativecommons.org/licenses/publicdom...</td>\n",
       "      <td>https://cdn.pixabay.com/photo/2013/04/30/15/28...</td>\n",
       "      <td>https://creativecommons.org/licenses/publicdom...</td>\n",
       "      <td>https://cdn.pixabay.com/photo/2017/11/19/20/37...</td>\n",
       "      <td>https://creativecommons.org/licenses/publicdom...</td>\n",
       "      <td>https://cdn.pixabay.com/photo/2016/01/31/14/32...</td>\n",
       "      <td>https://creativecommons.org/licenses/publicdom...</td>\n",
       "      <td>...</td>\n",
       "      <td>https://cdn.pixabay.com/photo/2013/06/11/16/39...</td>\n",
       "      <td>https://creativecommons.org/licenses/publicdom...</td>\n",
       "      <td>https://cdn.pixabay.com/photo/2016/04/07/18/36...</td>\n",
       "      <td>https://creativecommons.org/licenses/publicdom...</td>\n",
       "      <td>https://cdn.pixabay.com/photo/2018/01/20/14/26...</td>\n",
       "      <td>https://creativecommons.org/licenses/publicdom...</td>\n",
       "      <td>https://cdn.pixabay.com/photo/2016/11/02/10/04...</td>\n",
       "      <td>https://creativecommons.org/licenses/publicdom...</td>\n",
       "      <td>https://cdn.pixabay.com/photo/2016/10/01/14/12...</td>\n",
       "      <td>https://creativecommons.org/licenses/publicdom...</td>\n",
       "    </tr>\n",
       "  </tbody>\n",
       "</table>\n",
       "<p>2 rows × 200 columns</p>\n",
       "</div>"
      ],
      "text/plain": [
       "                                                 0    \\\n",
       "0  https://cdn.pixabay.com/photo/2016/11/08/05/18...   \n",
       "1  https://cdn.pixabay.com/photo/2012/03/02/00/36...   \n",
       "\n",
       "                                                 1    \\\n",
       "0  https://creativecommons.org/licenses/publicdom...   \n",
       "1  https://creativecommons.org/licenses/publicdom...   \n",
       "\n",
       "                                                 2    \\\n",
       "0  https://cdn.pixabay.com/photo/2014/09/17/21/43...   \n",
       "1  https://cdn.pixabay.com/photo/2016/11/08/05/01...   \n",
       "\n",
       "                                                 3    \\\n",
       "0  https://creativecommons.org/licenses/publicdom...   \n",
       "1  https://creativecommons.org/licenses/publicdom...   \n",
       "\n",
       "                                                 4    \\\n",
       "0  https://cdn.pixabay.com/photo/2016/10/30/20/08...   \n",
       "1  https://cdn.pixabay.com/photo/2013/04/30/15/28...   \n",
       "\n",
       "                                                 5    \\\n",
       "0  https://creativecommons.org/licenses/publicdom...   \n",
       "1  https://creativecommons.org/licenses/publicdom...   \n",
       "\n",
       "                                                 6    \\\n",
       "0  https://cdn.pixabay.com/photo/2017/04/10/08/08...   \n",
       "1  https://cdn.pixabay.com/photo/2017/11/19/20/37...   \n",
       "\n",
       "                                                 7    \\\n",
       "0  https://creativecommons.org/licenses/publicdom...   \n",
       "1  https://creativecommons.org/licenses/publicdom...   \n",
       "\n",
       "                                                 8    \\\n",
       "0  https://cdn.pixabay.com/photo/2013/04/16/14/22...   \n",
       "1  https://cdn.pixabay.com/photo/2016/01/31/14/32...   \n",
       "\n",
       "                                                 9    ...  \\\n",
       "0  https://creativecommons.org/licenses/publicdom...  ...   \n",
       "1  https://creativecommons.org/licenses/publicdom...  ...   \n",
       "\n",
       "                                                 190  \\\n",
       "0  https://cdn.pixabay.com/photo/2017/08/07/10/22...   \n",
       "1  https://cdn.pixabay.com/photo/2013/06/11/16/39...   \n",
       "\n",
       "                                                 191  \\\n",
       "0  https://creativecommons.org/licenses/publicdom...   \n",
       "1  https://creativecommons.org/licenses/publicdom...   \n",
       "\n",
       "                                                 192  \\\n",
       "0  https://cdn.pixabay.com/photo/2016/06/06/23/49...   \n",
       "1  https://cdn.pixabay.com/photo/2016/04/07/18/36...   \n",
       "\n",
       "                                                 193  \\\n",
       "0  https://creativecommons.org/licenses/publicdom...   \n",
       "1  https://creativecommons.org/licenses/publicdom...   \n",
       "\n",
       "                                                 194  \\\n",
       "0  https://cdn.pixabay.com/photo/2017/04/11/03/33...   \n",
       "1  https://cdn.pixabay.com/photo/2018/01/20/14/26...   \n",
       "\n",
       "                                                 195  \\\n",
       "0  https://creativecommons.org/licenses/publicdom...   \n",
       "1  https://creativecommons.org/licenses/publicdom...   \n",
       "\n",
       "                                                 196  \\\n",
       "0  https://cdn.pixabay.com/photo/2017/02/17/15/02...   \n",
       "1  https://cdn.pixabay.com/photo/2016/11/02/10/04...   \n",
       "\n",
       "                                                 197  \\\n",
       "0  https://creativecommons.org/licenses/publicdom...   \n",
       "1  https://creativecommons.org/licenses/publicdom...   \n",
       "\n",
       "                                                 198  \\\n",
       "0  https://cdn.pixabay.com/photo/2016/03/09/09/59...   \n",
       "1  https://cdn.pixabay.com/photo/2016/10/01/14/12...   \n",
       "\n",
       "                                                 199  \n",
       "0  https://creativecommons.org/licenses/publicdom...  \n",
       "1  https://creativecommons.org/licenses/publicdom...  \n",
       "\n",
       "[2 rows x 200 columns]"
      ]
     },
     "execution_count": 4,
     "metadata": {},
     "output_type": "execute_result"
    }
   ],
   "source": [
    "df = pd.DataFrame(url)\n",
    "df"
   ]
  },
  {
   "cell_type": "code",
   "execution_count": 5,
   "metadata": {},
   "outputs": [],
   "source": [
    "get_image(df)"
   ]
  },
  {
   "cell_type": "code",
   "execution_count": null,
   "metadata": {},
   "outputs": [],
   "source": [
    "# https://www.momondo.it/discover/momondo-guida-stili-architettonici\n",
    "# Roman architecture (around 509 BC-4th century AD)\n",
    "# Romanesque (around 1000-1140)\n",
    "# Gothic (around 1140-1520)\n",
    "# Renaissance (around 1425-1600)\n",
    "# Baroque (around 1600-1800)\n",
    "# Rococo (around 1720-1789)\n",
    "# Neoclassical (around 1715-1820)\n",
    "# Art Nouveau (around 1885-1910)\n",
    "# Art deco (around 1925-1940)\n",
    "# Modernism or International Style (around 1920s - 1980s)\n",
    "# Brutalism (around the 50s - 70s)\n",
    "# High-tech architecture or structural expressionism (1980s)\n",
    "# Postmodern architecture (1945-present)\n",
    "# Neo-futurism (1960s-present)\n",
    "# Deconstructivism (1982-present)"
   ]
  }
 ],
 "metadata": {
  "kernelspec": {
   "display_name": "Python 3",
   "language": "python",
   "name": "python3"
  },
  "language_info": {
   "codemirror_mode": {
    "name": "ipython",
    "version": 3
   },
   "file_extension": ".py",
   "mimetype": "text/x-python",
   "name": "python",
   "nbconvert_exporter": "python",
   "pygments_lexer": "ipython3",
   "version": "3.7.6"
  }
 },
 "nbformat": 4,
 "nbformat_minor": 4
}
