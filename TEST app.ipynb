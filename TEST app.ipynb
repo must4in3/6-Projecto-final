{
 "cells": [
  {
   "cell_type": "code",
   "execution_count": 2,
   "metadata": {
    "scrolled": true
   },
   "outputs": [
    {
     "data": {
      "text/plain": [
       "<Figure size 1080x1080 with 0 Axes>"
      ]
     },
     "metadata": {},
     "output_type": "display_data"
    },
    {
     "data": {
      "text/plain": [
       "<Figure size 1080x1080 with 0 Axes>"
      ]
     },
     "metadata": {},
     "output_type": "display_data"
    }
   ],
   "source": [
    "import numpy as np\n",
    "import os\n",
    "import tensorflow as tf\n",
    "from tkinter import *\n",
    "from PIL import Image, ImageDraw, ImageTk\n",
    "import PIL\n",
    "import random\n",
    "import time\n",
    "#from src.gui_functions import *\n",
    "#from src.recognition import *\n",
    "from tkinter import messagebox as mb\n",
    "from tkinter import filedialog\n",
    "from keras.models import load_model\n",
    "from src.discriminator_functions import Discriminator, discriminator_loss\n",
    "from src.generator_functions import downsample, upsample, Generator, generator_loss\n",
    "from src.Image_processing_functions import load_image_train, load_image_test, get_concat_h\n",
    "from src.Image_processing_functions import BUFFER_SIZE, BATCH_SIZE, IMG_WIDTH, IMG_HEIGHT\n",
    "import matplotlib.pyplot as plt\n",
    "from matplotlib.backends.backend_tkagg import FigureCanvasTkAgg\n",
    "from src.training_and_generate_images_functions import generate_images\n",
    "import cv2\n",
    "import pyautogui\n",
    "import glob\n",
    "#def main():\n",
    "\n",
    "#Load model:\n",
    "#Maybe I have to move this to the main.py...\n",
    "#model = load_model('inputs/images/example_photo_training.jpg') #model_sketch_extended_v5\n",
    "\n",
    "master = Tk()\n",
    "master.geometry('600x490+500+300')\n",
    "master.title('Image Inpainting for Urban Buildings')\n",
    "master.resizable(0, 0)\n",
    "#Shut down on escape\n",
    "master.bind('<Escape>', lambda e: exit(master))\n",
    "\n",
    "#Bckground picture canvas:\n",
    "cv_back = Canvas(master)\n",
    "img = ImageTk.PhotoImage(Image.open(\"inputs/images/background.jpg\"))\n",
    "cv_back.create_image(-100,-100, anchor=NW, image=img)\n",
    "cv_back.place(x=0, y=0, relwidth=1.5, relheight=1)#grid(row=0, column=0, columnspan=3, rowspan=5)\n",
    "\n",
    "#Create canvas images:\n",
    "cv = Canvas(master, width=380, height=380, borderwidth=2, bg='#dedad9')\n",
    "cv.grid(row=1, column=1, columnspan=1, rowspan=1)\n",
    "cv.pack(fill=BOTH)\n",
    "cv.place(x=150, y=50)\n",
    "#cv.bind(\"<B1-Motion>\", lambda x: paint(event=x, cv=cv, draw=draw))\n",
    "\n",
    "#  \n",
    "image1 = PIL.Image.new(\"RGB\", (700, 400),(255,255,255))\n",
    "draw = ImageDraw.Draw(image1)\n",
    "\n",
    "folder_path = StringVar()\n",
    "\n",
    "def browse_button():\n",
    "    # Allow user to select a directory and store it in global var\n",
    "    # called folder_path\n",
    "    global folder_path\n",
    "    filename = filedialog.askopenfilename()\n",
    "    folder_path.set(filename)\n",
    "    return loadImage(filename, cv)\n",
    "\n",
    "\n",
    "\n",
    "def loadImage(filename, cv):\n",
    "    img = Image.open(filename)\n",
    "    if img.size[0] > 380 or  img.size[1] > 380:\n",
    "        f_conversion =380/max(img.size)\n",
    "        img= img.resize((int(img.size[0]*f_conversion),int(img.size[1]*f_conversion)))\n",
    "        \n",
    "        \n",
    "        #img = cv2.resize(img, (500, 500)) \n",
    "        #img = cv2.resize(img, (img.size[0]*f_conversion, img.size[1]*f_conversion))        \n",
    "    filename = ImageTk.PhotoImage(img)\n",
    "    #canvas = Canvas(cv,height=400,width=700)\n",
    "    #image1 = Image.open(filename)\n",
    "    cv.image = filename  # <--- keep reference of your image\n",
    "    x0 = img.size[0]/2\n",
    "    y0 = img.size[1]/2\n",
    "    cv.create_image(x0,y0,anchor='center',image=filename)\n",
    "    #cv.pack()\n",
    "    #cv.place(x=150, y=50)\n",
    "    #return cv\n",
    "\n",
    "    \n",
    "def paint_black(event, cv, draw):\n",
    "    # python_green = \"#476042\"\n",
    "    x1, y1 = (event.x - 1), (event.y - 1)\n",
    "    x2, y2 = (event.x + 1), (event.y + 1)  \n",
    "    cv.create_oval(x1, y1, x2, y2, fill='black', width=2)\n",
    "    draw.line([x1, y1, x2, y2],fill='black',width=2)\n",
    "\n",
    "def paint_white(event, cv, draw):\n",
    "    # python_green = \"#476042\"\n",
    "    x1, y1 = (event.x - 4), (event.y - 4)\n",
    "    x2, y2 = (event.x + 4), (event.y + 4)  \n",
    "    cv.create_oval(x1, y1, x2, y2, fill='white', width=0)\n",
    "    draw.line([x1, y1, x2, y2],fill='white',width=0)    \n",
    "\n",
    "    \n",
    "def drawing():\n",
    "    cv.bind(\"<B1-Motion>\", lambda x: paint_black(event=x, cv=cv, draw=ImageDraw.Draw(image1)))\n",
    "\n",
    "    \n",
    "def eraser():\n",
    "    cv.bind(\"<B1-Motion>\", lambda x: paint_white(event=x, cv=cv, draw=ImageDraw.Draw(image1)))\n",
    "\n",
    "    \n",
    "def reset():\n",
    "    cv.delete('all')\n",
    "    \n",
    "    \n",
    "def close_window():\n",
    "    master.destroy()\n",
    "    \n",
    "def save_button():\n",
    "    # Allow user to select a directory and store it in global var\n",
    "    # called folder_path\n",
    "    global folder_path\n",
    "    dlg = filedialog.asksaveasfilename(title=\"Select file\",\n",
    "                                       confirmoverwrite=False,\n",
    "                                      filetypes=(\n",
    "        ('JPEG', ('*.jpg', '*.jpeg', '*.jpe')), ('PNG', '*.png'), ('BMP', ('*.bmp', '*.jdib')), ('GIF', '*.gif')))\n",
    "    fname = dlg\n",
    "    image1.save(fname)\n",
    "\n",
    "from keras.preprocessing.image import img_to_array, array_to_img  \n",
    "import scipy.misc\n",
    "\n",
    "def generate_images_tkinter(model, test_input, tar):\n",
    "    '''\n",
    "    Write a function to plot some images during training.\n",
    "    Pass images from the test dataset to the generator. The generator will then translate the input image into the output. \n",
    "    Last step is to plot the predictions.\n",
    "    Note: The training=True is intentional here since we want the batch statistics while running the model on the test dataset. \n",
    "    If we use training=False, we will get the accumulated statistics learned from the training dataset (which we don't want).\n",
    "    model is the generator.    \n",
    "    '''\n",
    "    prediction = model(test_input, training=True)\n",
    "    plt.figure(figsize=(15,15))\n",
    "    prediccion_image = prediction[0] * 0.5 + 0.5 \n",
    "    prediccion_image = prediccion_image.numpy()*255\n",
    "    prediccion_image = prediccion_image.astype(np.uint8)\n",
    "    prediccion_image = cv2.resize(prediccion_image, (380, 380))\n",
    "    matplotlib.image.imsave('outputs/1.png', prediccion_image)\n",
    "\n",
    "    cv.delete('all')\n",
    "    loadImage('outputs/1.png', cv)\n",
    "\n",
    "\n",
    "    \n",
    "import pyautogui\n",
    "import matplotlib\n",
    "def create_predict_from_tkinter():\n",
    "    myScreenshot = pyautogui.hotkey('shift', 'printscreen')\n",
    "    time.sleep(5)\n",
    "    \n",
    "    generator = Generator()\n",
    "    discriminator = Discriminator()\n",
    "    generator_optimizer = tf.keras.optimizers.Adam(2e-4, beta_1=0.5)\n",
    "    discriminator_optimizer = tf.keras.optimizers.Adam(2e-4, beta_1=0.5)\n",
    "    checkpoint_dir = './training_checkpoints'\n",
    "    checkpoint_prefix = os.path.join(checkpoint_dir, \"ckpt\")\n",
    "    checkpoint = tf.train.Checkpoint(generator_optimizer=generator_optimizer,\n",
    "                                 discriminator_optimizer=discriminator_optimizer,\n",
    "                                 generator=generator,\n",
    "                                 discriminator=discriminator)\n",
    "    checkpoint.restore(tf.train.latest_checkpoint(checkpoint_dir))\n",
    "    #image1.save('imagenes/disegni/screenshot2.png')\n",
    "    list_of_files = glob.glob('../../../Pictures/*') # * means all if need specific format then *.csv\n",
    "    latest_file = max(list_of_files, key=os.path.getctime)\n",
    "    img = cv2.imread(latest_file)[:,:,::-1] \n",
    "    edges = cv2.Canny(img,100,200)\n",
    "    PIL_image1 = Image.fromarray(np.uint8(img)).convert('RGB')\n",
    "    PIL_image2 = Image.fromarray(np.uint8(edges)).convert('RGB')\n",
    "    img_concat = get_concat_h(PIL_image1, PIL_image2)\n",
    "    img_concat.save('imagenes/output/1.png')\n",
    "    test_dataset = tf.data.Dataset.list_files('imagenes/output/1.png')\n",
    "    test_dataset = test_dataset.map(load_image_test)\n",
    "    test_dataset = test_dataset.batch(BATCH_SIZE)\n",
    "    for example_input, example_target in test_dataset.take(1):\n",
    "        generate_images_tkinter(generator, example_input, example_target)\n",
    "\n",
    "           \n",
    "        \n",
    "        \n",
    "        \n",
    "button1 = Button(master, text = 'Open Image', fg='white', activebackground=\"#c4e59a\", font='Helvetica 8 bold', padx=25, pady=15, bd=5,bg=\"#898989\", command=browse_button)\n",
    "button1.place(x = 20, y = 50, width=120, height=25)\n",
    "\n",
    "button2 = Button(master, text = 'Draw',fg='white', activebackground=\"#5D836C\", font='Helvetica 8 bold', padx=25, pady=15, bd=5,bg=\"#898989\", command=drawing)\n",
    "button2.place(x = 20, y = 80, width=120, height=25)\n",
    "\n",
    "button3 = Button(master, text = 'Eraser', fg='white',activebackground=\"#B0FC38\", font='Helvetica 8 bold', padx=25, pady=15, bd=5,bg=\"#898989\", command=eraser)\n",
    "button3.place(x = 20, y = 110, width=120, height=25)\n",
    "\n",
    "button4 = Button(master, text = 'Reset', fg='white',activebackground=\"#64dbc0\", font='Helvetica 8 bold', padx=25, pady=15, bd=5,bg=\"#898989\", command=reset)\n",
    "button4.place(x = 20, y = 140, width=120, height=25)\n",
    "\n",
    "button5 = Button(master, text = 'Save Image', fg='white',activebackground=\"#497e1e\", font='Helvetica 8 bold', padx=25, pady=15, bd=5,bg=\"#898989\", command=save_button)\n",
    "button5.place(x = 20, y = 170, width=120, height=25)\n",
    "\n",
    "button6 = Button(master, text = 'Exit', fg='white',activebackground=\"#54ca7f\", font='Helvetica 8 bold', padx=25, pady=15, bd=5,bg=\"#898989\", command=close_window)\n",
    "button6.place(x = 20, y = 200, width=120, height=25)\n",
    "\n",
    "button7 = Button(master, text = 'Create', fg='white',activebackground=\"#54ca7f\", font='Helvetica 8 bold', padx=25, pady=15, bd=5,bg=\"#898989\", command=create_predict_from_tkinter)\n",
    "button7.place(x = 20, y = 230, width=120, height=205)\n",
    "\n",
    "\n",
    "master.mainloop()"
   ]
  },
  {
   "cell_type": "code",
   "execution_count": null,
   "metadata": {},
   "outputs": [],
   "source": []
  },
  {
   "cell_type": "code",
   "execution_count": null,
   "metadata": {},
   "outputs": [],
   "source": [
    "myScreenshot = pyautogui.hotkey('ctrl', 'shift', 'prtsc')\n",
    "#myScreenshot.save('imagenes/disegni/screenshot2.png')\n"
   ]
  },
  {
   "cell_type": "code",
   "execution_count": null,
   "metadata": {},
   "outputs": [],
   "source": [
    "import clipboard"
   ]
  },
  {
   "cell_type": "code",
   "execution_count": null,
   "metadata": {},
   "outputs": [],
   "source": [
    "clipboard_get(type='image/png')"
   ]
  },
  {
   "cell_type": "code",
   "execution_count": null,
   "metadata": {},
   "outputs": [],
   "source": [
    "myScreenshot.save(\"screen.png\")"
   ]
  },
  {
   "cell_type": "code",
   "execution_count": null,
   "metadata": {},
   "outputs": [],
   "source": [
    "import pyscreenshot as ImageGrab\n",
    "\n",
    "im = ImageGrab.grab()\n",
    "\n",
    "im.save('imagenes/disegni/screenshot2.png')\n",
    "\n",
    "im.show()"
   ]
  },
  {
   "cell_type": "code",
   "execution_count": null,
   "metadata": {},
   "outputs": [],
   "source": [
    "screenshot = pyautogui.screenshot()\n",
    "screenshot.save(\"screen.png\")"
   ]
  },
  {
   "cell_type": "code",
   "execution_count": null,
   "metadata": {},
   "outputs": [],
   "source": [
    "from pyautogui import press\n",
    "press('ctrl')\n",
    "press('shift')\n",
    "press(\"printscreen\")"
   ]
  },
  {
   "cell_type": "code",
   "execution_count": null,
   "metadata": {},
   "outputs": [],
   "source": [
    "\n",
    "myScreenshot = pyautogui.hotkey('shift', 'printscreen')"
   ]
  },
  {
   "cell_type": "code",
   "execution_count": null,
   "metadata": {},
   "outputs": [],
   "source": [
    "from PIL import ImageGrab, Image\n",
    "img = ImageGrab.grabclipboard()"
   ]
  },
  {
   "cell_type": "code",
   "execution_count": null,
   "metadata": {},
   "outputs": [],
   "source": [
    "print(myScreenshot)"
   ]
  },
  {
   "cell_type": "code",
   "execution_count": null,
   "metadata": {},
   "outputs": [],
   "source": [
    "img = cv2.imread('../../../Pictures/Screenshot from 2020-07-27 14-45-37.png')"
   ]
  },
  {
   "cell_type": "code",
   "execution_count": null,
   "metadata": {},
   "outputs": [],
   "source": [
    "PIL_image = Image.fromarray(np.uint8(img)).convert('RGB')"
   ]
  },
  {
   "cell_type": "code",
   "execution_count": null,
   "metadata": {},
   "outputs": [],
   "source": [
    "print(len(img))"
   ]
  },
  {
   "cell_type": "code",
   "execution_count": null,
   "metadata": {},
   "outputs": [],
   "source": [
    "plt.figure()\n",
    "plt.imshow(img)"
   ]
  },
  {
   "cell_type": "code",
   "execution_count": null,
   "metadata": {},
   "outputs": [],
   "source": [
    "edges = cv2.Canny(img,100,200)"
   ]
  },
  {
   "cell_type": "code",
   "execution_count": null,
   "metadata": {},
   "outputs": [],
   "source": [
    "PIL_image1 = Image.fromarray(np.uint8(img)).convert('RGB')\n",
    "PIL_image2 = Image.fromarray(np.uint8(edges)).convert('RGB')\n",
    "img_concat = get_concat_h(PIL_image1, PIL_image2)\n",
    "img_concat.save('imagenes/output/1.png')"
   ]
  },
  {
   "cell_type": "code",
   "execution_count": null,
   "metadata": {},
   "outputs": [],
   "source": [
    "plt.figure()\n",
    "plt.imshow(img_concat)"
   ]
  },
  {
   "cell_type": "code",
   "execution_count": null,
   "metadata": {},
   "outputs": [],
   "source": [
    "\n",
    "def generate_images(model, image):\n",
    "    '''\n",
    "    Write a function to plot some images during training.\n",
    "    Pass images from the test dataset to the generator. The generator will then translate the input image into the output. \n",
    "    Last step is to plot the predictions.\n",
    "    Note: The training=True is intentional here since we want the batch statistics while running the model on the test dataset. \n",
    "    If we use training=False, we will get the accumulated statistics learned from the training dataset (which we don't want).\n",
    "    model is the generator.    \n",
    "    '''\n",
    "    prediction = model(test_input, training=True)\n",
    "    plt.figure(figsize=(15,15))\n",
    "\n",
    "    display_list = [test_input[0], tar[0], prediction[0]]\n",
    "    title = ['Input Image', 'Ground Truth', 'Predicted Image']\n",
    "\n",
    "    for i in range(3):\n",
    "        plt.subplot(1, 3, i+1)\n",
    "        plt.title(title[i])\n",
    "        # getting the pixel values between [0, 1] to plot it.\n",
    "        plt.imshow(display_list[i] * 0.5 + 0.5)\n",
    "        plt.axis('off')\n",
    "    plt.show()"
   ]
  },
  {
   "cell_type": "code",
   "execution_count": null,
   "metadata": {},
   "outputs": [],
   "source": [
    "g(generator, img_concat)"
   ]
  },
  {
   "cell_type": "code",
   "execution_count": null,
   "metadata": {},
   "outputs": [],
   "source": [
    "img = cv2.imread('imagenes/de_convertir/FaSyn/FaSyn13/images/1.jpg')[:,:,::-1]"
   ]
  },
  {
   "cell_type": "code",
   "execution_count": null,
   "metadata": {},
   "outputs": [],
   "source": [
    "plt.figure()\n",
    "plt.imshow(img)"
   ]
  },
  {
   "cell_type": "code",
   "execution_count": null,
   "metadata": {},
   "outputs": [],
   "source": [
    "import glob\n",
    "list_of_files = glob.glob('../../../Pictures/*') # * means all if need specific format then *.csv\n",
    "latest_file = max(list_of_files, key=os.path.getctime)"
   ]
  },
  {
   "cell_type": "code",
   "execution_count": null,
   "metadata": {},
   "outputs": [],
   "source": [
    "print(latest_file)"
   ]
  },
  {
   "cell_type": "code",
   "execution_count": null,
   "metadata": {},
   "outputs": [],
   "source": [
    "import clipboard"
   ]
  },
  {
   "cell_type": "code",
   "execution_count": null,
   "metadata": {},
   "outputs": [],
   "source": [
    "yScreenshot = pyautogui.hotkey('ctrl','shift', 'printscreen')"
   ]
  },
  {
   "cell_type": "code",
   "execution_count": null,
   "metadata": {},
   "outputs": [],
   "source": [
    "clipboard.get(idx=0)"
   ]
  },
  {
   "cell_type": "code",
   "execution_count": null,
   "metadata": {},
   "outputs": [],
   "source": [
    "from gi.repository import Gtk, Gdk"
   ]
  },
  {
   "cell_type": "code",
   "execution_count": null,
   "metadata": {},
   "outputs": [],
   "source": [
    "from PIL import Image, ImageGrab "
   ]
  },
  {
   "cell_type": "code",
   "execution_count": null,
   "metadata": {},
   "outputs": [],
   "source": [
    "import pyautogui\n",
    "pyautogui.hotkey('ctrl','shift', 'printscreen')\n"
   ]
  },
  {
   "cell_type": "code",
   "execution_count": null,
   "metadata": {},
   "outputs": [],
   "source": [
    "from tkinter import Tk\n",
    "root = Tk()\n",
    "root.withdraw()\n",
    "number = root.clipboard_get()"
   ]
  },
  {
   "cell_type": "code",
   "execution_count": null,
   "metadata": {},
   "outputs": [],
   "source": [
    "import matplotlib.pyplot as plt\n",
    "plt.imshow(number)\n",
    "plt.show()"
   ]
  },
  {
   "cell_type": "code",
   "execution_count": null,
   "metadata": {},
   "outputs": [],
   "source": [
    "pyautogui.hotkey('alt', 'printscreen')\n",
    "img = ImageGrab.grabclipboard()\n",
    "img.save('screenshot.png')"
   ]
  },
  {
   "cell_type": "code",
   "execution_count": null,
   "metadata": {},
   "outputs": [],
   "source": [
    "import ImageGrab"
   ]
  },
  {
   "cell_type": "code",
   "execution_count": null,
   "metadata": {},
   "outputs": [],
   "source": [
    "import gtk\n",
    "clipboard = gtk.clipboard_get()"
   ]
  },
  {
   "cell_type": "code",
   "execution_count": null,
   "metadata": {},
   "outputs": [],
   "source": [
    "import tkinter as tk"
   ]
  },
  {
   "cell_type": "code",
   "execution_count": null,
   "metadata": {},
   "outputs": [],
   "source": [
    "tk = tkinter.Tk()"
   ]
  },
  {
   "cell_type": "code",
   "execution_count": null,
   "metadata": {},
   "outputs": [],
   "source": [
    "clipboard_text= tk.clipboard_get()"
   ]
  },
  {
   "cell_type": "code",
   "execution_count": null,
   "metadata": {},
   "outputs": [],
   "source": [
    "import numpy as np\n",
    "import os\n",
    "import tensorflow as tf\n",
    "from tkinter import *\n",
    "from PIL import Image, ImageDraw, ImageTk\n",
    "import PIL\n",
    "import random\n",
    "import time\n",
    "#from src.gui_functions import *\n",
    "#from src.recognition import *\n",
    "from tkinter import messagebox as mb\n",
    "from tkinter import filedialog\n",
    "from keras.models import load_model\n",
    "from src.discriminator_functions import Discriminator, discriminator_loss\n",
    "from src.generator_functions import downsample, upsample, Generator, generator_loss\n",
    "from src.Image_processing_functions import load_image_train, load_image_test, get_concat_h\n",
    "from src.Image_processing_functions import BUFFER_SIZE, BATCH_SIZE, IMG_WIDTH, IMG_HEIGHT\n",
    "import matplotlib.pyplot as plt\n",
    "from matplotlib.backends.backend_tkagg import FigureCanvasTkAgg\n",
    "from src.training_and_generate_images_functions import generate_images\n",
    "import cv2\n",
    "import pyautogui\n",
    "import glob"
   ]
  },
  {
   "cell_type": "code",
   "execution_count": null,
   "metadata": {},
   "outputs": [],
   "source": [
    "def drawing():\n",
    "    cv.bind(\"<B1-Motion>\", lambda x: paint_black(event=x, cv=cv, draw=ImageDraw.Draw(image1)))\n",
    "    \n",
    "def loadImage(filename, cv):\n",
    "    img = Image.open(filename)\n",
    "    if img.size[0] > 380 or  img.size[1] > 380:\n",
    "        f_conversion =380/max(img.size)\n",
    "        img= img.resize((int(img.size[0]*f_conversion),int(img.size[1]*f_conversion)))\n",
    "        \n",
    "        \n",
    "        #img = cv2.resize(img, (500, 500)) \n",
    "        #img = cv2.resize(img, (img.size[0]*f_conversion, img.size[1]*f_conversion))        \n",
    "    filename = ImageTk.PhotoImage(img)\n",
    "    #canvas = Canvas(cv,height=400,width=700)\n",
    "    cv.image = filename  # <--- keep reference of your image\n",
    "    x0 = img.size[0]/2\n",
    "    y0 = img.size[1]/2\n",
    "    cv.create_image(x0,y0,anchor='center',image=filename)\n",
    "    cv.pack()\n",
    "    cv.place(x=150, y=50)\n",
    "    return cv\n",
    "\n",
    "def browse_button():\n",
    "    # Allow user to select a directory and store it in global var\n",
    "    # called folder_path\n",
    "    global folder_path\n",
    "    filename = filedialog.askopenfilename()\n",
    "    folder_path.set(filename)\n",
    "    return loadImage(filename, cv)\n",
    "\n",
    "def paint_black(event, cv, draw):\n",
    "    # python_green = \"#476042\"\n",
    "    x1, y1 = (event.x - 1), (event.y - 1)\n",
    "    x2, y2 = (event.x + 1), (event.y + 1)  \n",
    "    cv.create_oval(x1, y1, x2, y2, fill='black', width=2)\n",
    "    draw.line([x1, y1, x2, y2],fill='black',width=2)"
   ]
  },
  {
   "cell_type": "code",
   "execution_count": null,
   "metadata": {},
   "outputs": [],
   "source": [
    "\n",
    "master = Tk()\n",
    "master.geometry('600x490+500+300')\n",
    "master.title('Image Inpainting for Urban Buildings')\n",
    "master.resizable(0, 0)\n",
    "#Shut down on escape\n",
    "master.bind('<Escape>', lambda e: exit(master))\n",
    "\n",
    "#Bckground picture canvas:\n",
    "cv_back = Canvas(master)\n",
    "img = ImageTk.PhotoImage(Image.open(\"inputs/images/background.jpg\"))\n",
    "cv_back.create_image(-100,-100, anchor=NW, image=img)\n",
    "cv_back.place(x=0, y=0, relwidth=1.5, relheight=1)#grid(row=0, column=0, columnspan=3, rowspan=5)\n",
    "\n",
    "#Create canvas images:\n",
    "cv = Canvas(master, width=380, height=380, borderwidth=2, bg='#dedad9')\n",
    "cv.grid(row=1, column=1, columnspan=1, rowspan=1)\n",
    "cv.pack(fill=BOTH)\n",
    "cv.place(x=150, y=50)\n",
    "#cv.bind(\"<B1-Motion>\", lambda x: paint(event=x, cv=cv, draw=draw))\n",
    "\n",
    "#  \n",
    "folder_path = StringVar()\n",
    "\n",
    "\n",
    "image1 = PIL.Image.new(\"RGB\", (700, 400),(255,255,255))\n",
    "draw = ImageDraw.Draw(image1)\n",
    "\n",
    "\n",
    "button1 = Button(master, text = 'Open Image', fg='white', activebackground=\"#c4e59a\", font='Helvetica 8 bold', padx=25, pady=15, bd=5,bg=\"#898989\", command=browse_button)\n",
    "button1.place(x = 20, y = 50, width=120, height=25)\n",
    "\n",
    "button2 = Button(master, text = 'Draw',fg='white', activebackground=\"#5D836C\", font='Helvetica 8 bold', padx=25, pady=15, bd=5,bg=\"#898989\", command=drawing)\n",
    "button2.place(x = 20, y = 80, width=120, height=25)\n",
    "\n",
    "button3 = Button(master, text = 'save',fg='white', activebackground=\"#5D836C\", font='Helvetica 8 bold', padx=25, pady=15, bd=5,bg=\"#898989\", command=drawing)\n",
    "button3.place(x = 20, y = 110, width=120, height=25)\n",
    "\n",
    "master.mainloop()"
   ]
  },
  {
   "cell_type": "code",
   "execution_count": null,
   "metadata": {},
   "outputs": [],
   "source": []
  }
 ],
 "metadata": {
  "kernelspec": {
   "display_name": "Python 3",
   "language": "python",
   "name": "python3"
  },
  "language_info": {
   "codemirror_mode": {
    "name": "ipython",
    "version": 3
   },
   "file_extension": ".py",
   "mimetype": "text/x-python",
   "name": "python",
   "nbconvert_exporter": "python",
   "pygments_lexer": "ipython3",
   "version": "3.7.6"
  }
 },
 "nbformat": 4,
 "nbformat_minor": 4
}
